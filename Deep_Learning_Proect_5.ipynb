{
  "nbformat": 4,
  "nbformat_minor": 0,
  "metadata": {
    "colab": {
      "name": "Deep Learning Proect - 5.ipynb",
      "provenance": []
    },
    "kernelspec": {
      "name": "python3",
      "display_name": "Python 3"
    },
    "language_info": {
      "name": "python"
    }
  },
  "cells": [
    {
      "cell_type": "markdown",
      "metadata": {
        "id": "Gk6nBpbOBtM2"
      },
      "source": [
        "##Pima Indians Diabetes Database"
      ]
    },
    {
      "cell_type": "markdown",
      "metadata": {
        "id": "vPLoCGbzBzSa"
      },
      "source": [
        "`Dataset:`https://www.kaggle.com/uciml/pima-indians-diabetes-database"
      ]
    },
    {
      "cell_type": "code",
      "metadata": {
        "id": "4ajhC_C3Bi66"
      },
      "source": [
        "import pandas as pd\n",
        "import numpy as np\n",
        "import seaborn as sn\n",
        "import matplotlib.pyplot as plt\n",
        "%matplotlib inline\n",
        "\n",
        "import tensorflow as tf\n",
        "from tensorflow.keras.models import Sequential\n",
        "from tensorflow import keras"
      ],
      "execution_count": 1,
      "outputs": []
    },
    {
      "cell_type": "code",
      "metadata": {
        "colab": {
          "base_uri": "https://localhost:8080/",
          "height": 222
        },
        "id": "RJATBa2_CUzF",
        "outputId": "a2d6915f-a14d-40f4-dcb0-28b86cc3d758"
      },
      "source": [
        "df = pd.read_csv(\"/content/diabetes.csv\")\n",
        "df.head()"
      ],
      "execution_count": 2,
      "outputs": [
        {
          "output_type": "execute_result",
          "data": {
            "text/html": [
              "<div>\n",
              "<style scoped>\n",
              "    .dataframe tbody tr th:only-of-type {\n",
              "        vertical-align: middle;\n",
              "    }\n",
              "\n",
              "    .dataframe tbody tr th {\n",
              "        vertical-align: top;\n",
              "    }\n",
              "\n",
              "    .dataframe thead th {\n",
              "        text-align: right;\n",
              "    }\n",
              "</style>\n",
              "<table border=\"1\" class=\"dataframe\">\n",
              "  <thead>\n",
              "    <tr style=\"text-align: right;\">\n",
              "      <th></th>\n",
              "      <th>Pregnancies</th>\n",
              "      <th>Glucose</th>\n",
              "      <th>BloodPressure</th>\n",
              "      <th>SkinThickness</th>\n",
              "      <th>Insulin</th>\n",
              "      <th>BMI</th>\n",
              "      <th>DiabetesPedigreeFunction</th>\n",
              "      <th>Age</th>\n",
              "      <th>Outcome</th>\n",
              "    </tr>\n",
              "  </thead>\n",
              "  <tbody>\n",
              "    <tr>\n",
              "      <th>0</th>\n",
              "      <td>6</td>\n",
              "      <td>148</td>\n",
              "      <td>72</td>\n",
              "      <td>35</td>\n",
              "      <td>0</td>\n",
              "      <td>33.6</td>\n",
              "      <td>0.627</td>\n",
              "      <td>50</td>\n",
              "      <td>1</td>\n",
              "    </tr>\n",
              "    <tr>\n",
              "      <th>1</th>\n",
              "      <td>1</td>\n",
              "      <td>85</td>\n",
              "      <td>66</td>\n",
              "      <td>29</td>\n",
              "      <td>0</td>\n",
              "      <td>26.6</td>\n",
              "      <td>0.351</td>\n",
              "      <td>31</td>\n",
              "      <td>0</td>\n",
              "    </tr>\n",
              "    <tr>\n",
              "      <th>2</th>\n",
              "      <td>8</td>\n",
              "      <td>183</td>\n",
              "      <td>64</td>\n",
              "      <td>0</td>\n",
              "      <td>0</td>\n",
              "      <td>23.3</td>\n",
              "      <td>0.672</td>\n",
              "      <td>32</td>\n",
              "      <td>1</td>\n",
              "    </tr>\n",
              "    <tr>\n",
              "      <th>3</th>\n",
              "      <td>1</td>\n",
              "      <td>89</td>\n",
              "      <td>66</td>\n",
              "      <td>23</td>\n",
              "      <td>94</td>\n",
              "      <td>28.1</td>\n",
              "      <td>0.167</td>\n",
              "      <td>21</td>\n",
              "      <td>0</td>\n",
              "    </tr>\n",
              "    <tr>\n",
              "      <th>4</th>\n",
              "      <td>0</td>\n",
              "      <td>137</td>\n",
              "      <td>40</td>\n",
              "      <td>35</td>\n",
              "      <td>168</td>\n",
              "      <td>43.1</td>\n",
              "      <td>2.288</td>\n",
              "      <td>33</td>\n",
              "      <td>1</td>\n",
              "    </tr>\n",
              "  </tbody>\n",
              "</table>\n",
              "</div>"
            ],
            "text/plain": [
              "   Pregnancies  Glucose  BloodPressure  ...  DiabetesPedigreeFunction  Age  Outcome\n",
              "0            6      148             72  ...                     0.627   50        1\n",
              "1            1       85             66  ...                     0.351   31        0\n",
              "2            8      183             64  ...                     0.672   32        1\n",
              "3            1       89             66  ...                     0.167   21        0\n",
              "4            0      137             40  ...                     2.288   33        1\n",
              "\n",
              "[5 rows x 9 columns]"
            ]
          },
          "metadata": {
            "tags": []
          },
          "execution_count": 2
        }
      ]
    },
    {
      "cell_type": "code",
      "metadata": {
        "colab": {
          "base_uri": "https://localhost:8080/"
        },
        "id": "y4MsPxzXCZdw",
        "outputId": "d329c422-cfcb-4bca-d40b-43ef1cadc432"
      },
      "source": [
        "df.columns"
      ],
      "execution_count": 3,
      "outputs": [
        {
          "output_type": "execute_result",
          "data": {
            "text/plain": [
              "Index(['Pregnancies', 'Glucose', 'BloodPressure', 'SkinThickness', 'Insulin',\n",
              "       'BMI', 'DiabetesPedigreeFunction', 'Age', 'Outcome'],\n",
              "      dtype='object')"
            ]
          },
          "metadata": {
            "tags": []
          },
          "execution_count": 3
        }
      ]
    },
    {
      "cell_type": "code",
      "metadata": {
        "colab": {
          "base_uri": "https://localhost:8080/",
          "height": 314
        },
        "id": "QCB_UIU_CbKx",
        "outputId": "4d53b36a-71b2-4f7a-b6ab-d63a9bc7487f"
      },
      "source": [
        "df.describe()"
      ],
      "execution_count": 4,
      "outputs": [
        {
          "output_type": "execute_result",
          "data": {
            "text/html": [
              "<div>\n",
              "<style scoped>\n",
              "    .dataframe tbody tr th:only-of-type {\n",
              "        vertical-align: middle;\n",
              "    }\n",
              "\n",
              "    .dataframe tbody tr th {\n",
              "        vertical-align: top;\n",
              "    }\n",
              "\n",
              "    .dataframe thead th {\n",
              "        text-align: right;\n",
              "    }\n",
              "</style>\n",
              "<table border=\"1\" class=\"dataframe\">\n",
              "  <thead>\n",
              "    <tr style=\"text-align: right;\">\n",
              "      <th></th>\n",
              "      <th>Pregnancies</th>\n",
              "      <th>Glucose</th>\n",
              "      <th>BloodPressure</th>\n",
              "      <th>SkinThickness</th>\n",
              "      <th>Insulin</th>\n",
              "      <th>BMI</th>\n",
              "      <th>DiabetesPedigreeFunction</th>\n",
              "      <th>Age</th>\n",
              "      <th>Outcome</th>\n",
              "    </tr>\n",
              "  </thead>\n",
              "  <tbody>\n",
              "    <tr>\n",
              "      <th>count</th>\n",
              "      <td>768.000000</td>\n",
              "      <td>768.000000</td>\n",
              "      <td>768.000000</td>\n",
              "      <td>768.000000</td>\n",
              "      <td>768.000000</td>\n",
              "      <td>768.000000</td>\n",
              "      <td>768.000000</td>\n",
              "      <td>768.000000</td>\n",
              "      <td>768.000000</td>\n",
              "    </tr>\n",
              "    <tr>\n",
              "      <th>mean</th>\n",
              "      <td>3.845052</td>\n",
              "      <td>120.894531</td>\n",
              "      <td>69.105469</td>\n",
              "      <td>20.536458</td>\n",
              "      <td>79.799479</td>\n",
              "      <td>31.992578</td>\n",
              "      <td>0.471876</td>\n",
              "      <td>33.240885</td>\n",
              "      <td>0.348958</td>\n",
              "    </tr>\n",
              "    <tr>\n",
              "      <th>std</th>\n",
              "      <td>3.369578</td>\n",
              "      <td>31.972618</td>\n",
              "      <td>19.355807</td>\n",
              "      <td>15.952218</td>\n",
              "      <td>115.244002</td>\n",
              "      <td>7.884160</td>\n",
              "      <td>0.331329</td>\n",
              "      <td>11.760232</td>\n",
              "      <td>0.476951</td>\n",
              "    </tr>\n",
              "    <tr>\n",
              "      <th>min</th>\n",
              "      <td>0.000000</td>\n",
              "      <td>0.000000</td>\n",
              "      <td>0.000000</td>\n",
              "      <td>0.000000</td>\n",
              "      <td>0.000000</td>\n",
              "      <td>0.000000</td>\n",
              "      <td>0.078000</td>\n",
              "      <td>21.000000</td>\n",
              "      <td>0.000000</td>\n",
              "    </tr>\n",
              "    <tr>\n",
              "      <th>25%</th>\n",
              "      <td>1.000000</td>\n",
              "      <td>99.000000</td>\n",
              "      <td>62.000000</td>\n",
              "      <td>0.000000</td>\n",
              "      <td>0.000000</td>\n",
              "      <td>27.300000</td>\n",
              "      <td>0.243750</td>\n",
              "      <td>24.000000</td>\n",
              "      <td>0.000000</td>\n",
              "    </tr>\n",
              "    <tr>\n",
              "      <th>50%</th>\n",
              "      <td>3.000000</td>\n",
              "      <td>117.000000</td>\n",
              "      <td>72.000000</td>\n",
              "      <td>23.000000</td>\n",
              "      <td>30.500000</td>\n",
              "      <td>32.000000</td>\n",
              "      <td>0.372500</td>\n",
              "      <td>29.000000</td>\n",
              "      <td>0.000000</td>\n",
              "    </tr>\n",
              "    <tr>\n",
              "      <th>75%</th>\n",
              "      <td>6.000000</td>\n",
              "      <td>140.250000</td>\n",
              "      <td>80.000000</td>\n",
              "      <td>32.000000</td>\n",
              "      <td>127.250000</td>\n",
              "      <td>36.600000</td>\n",
              "      <td>0.626250</td>\n",
              "      <td>41.000000</td>\n",
              "      <td>1.000000</td>\n",
              "    </tr>\n",
              "    <tr>\n",
              "      <th>max</th>\n",
              "      <td>17.000000</td>\n",
              "      <td>199.000000</td>\n",
              "      <td>122.000000</td>\n",
              "      <td>99.000000</td>\n",
              "      <td>846.000000</td>\n",
              "      <td>67.100000</td>\n",
              "      <td>2.420000</td>\n",
              "      <td>81.000000</td>\n",
              "      <td>1.000000</td>\n",
              "    </tr>\n",
              "  </tbody>\n",
              "</table>\n",
              "</div>"
            ],
            "text/plain": [
              "       Pregnancies     Glucose  ...         Age     Outcome\n",
              "count   768.000000  768.000000  ...  768.000000  768.000000\n",
              "mean      3.845052  120.894531  ...   33.240885    0.348958\n",
              "std       3.369578   31.972618  ...   11.760232    0.476951\n",
              "min       0.000000    0.000000  ...   21.000000    0.000000\n",
              "25%       1.000000   99.000000  ...   24.000000    0.000000\n",
              "50%       3.000000  117.000000  ...   29.000000    0.000000\n",
              "75%       6.000000  140.250000  ...   41.000000    1.000000\n",
              "max      17.000000  199.000000  ...   81.000000    1.000000\n",
              "\n",
              "[8 rows x 9 columns]"
            ]
          },
          "metadata": {
            "tags": []
          },
          "execution_count": 4
        }
      ]
    },
    {
      "cell_type": "code",
      "metadata": {
        "colab": {
          "base_uri": "https://localhost:8080/"
        },
        "id": "qABwWrpdCc3A",
        "outputId": "ab077929-f1ee-4ebf-8050-72fcebbb6c0b"
      },
      "source": [
        "df.info()"
      ],
      "execution_count": 5,
      "outputs": [
        {
          "output_type": "stream",
          "text": [
            "<class 'pandas.core.frame.DataFrame'>\n",
            "RangeIndex: 768 entries, 0 to 767\n",
            "Data columns (total 9 columns):\n",
            " #   Column                    Non-Null Count  Dtype  \n",
            "---  ------                    --------------  -----  \n",
            " 0   Pregnancies               768 non-null    int64  \n",
            " 1   Glucose                   768 non-null    int64  \n",
            " 2   BloodPressure             768 non-null    int64  \n",
            " 3   SkinThickness             768 non-null    int64  \n",
            " 4   Insulin                   768 non-null    int64  \n",
            " 5   BMI                       768 non-null    float64\n",
            " 6   DiabetesPedigreeFunction  768 non-null    float64\n",
            " 7   Age                       768 non-null    int64  \n",
            " 8   Outcome                   768 non-null    int64  \n",
            "dtypes: float64(2), int64(7)\n",
            "memory usage: 54.1 KB\n"
          ],
          "name": "stdout"
        }
      ]
    },
    {
      "cell_type": "code",
      "metadata": {
        "id": "XqtjtDRsCe-w"
      },
      "source": [
        "X = df.drop(\"Outcome\", axis=\"columns\")\n",
        "x = X.values"
      ],
      "execution_count": 14,
      "outputs": []
    },
    {
      "cell_type": "code",
      "metadata": {
        "colab": {
          "base_uri": "https://localhost:8080/"
        },
        "id": "VfpG1njcCwlP",
        "outputId": "b51e5111-26ec-4423-fc08-c288e01caecf"
      },
      "source": [
        "print(X.shape)"
      ],
      "execution_count": 15,
      "outputs": [
        {
          "output_type": "stream",
          "text": [
            "(768, 8)\n"
          ],
          "name": "stdout"
        }
      ]
    },
    {
      "cell_type": "code",
      "metadata": {
        "id": "N7JM_23uCxxP"
      },
      "source": [
        "Y = df['Outcome']\n",
        "y = Y.values"
      ],
      "execution_count": 25,
      "outputs": []
    },
    {
      "cell_type": "code",
      "metadata": {
        "colab": {
          "base_uri": "https://localhost:8080/"
        },
        "id": "PJ1KKk0lC1CB",
        "outputId": "995d8b16-b006-4e93-f1ea-4ca70937259a"
      },
      "source": [
        "Y.value_counts()"
      ],
      "execution_count": 17,
      "outputs": [
        {
          "output_type": "execute_result",
          "data": {
            "text/plain": [
              "0    500\n",
              "1    268\n",
              "Name: Outcome, dtype: int64"
            ]
          },
          "metadata": {
            "tags": []
          },
          "execution_count": 17
        }
      ]
    },
    {
      "cell_type": "code",
      "metadata": {
        "colab": {
          "base_uri": "https://localhost:8080/"
        },
        "id": "hnHUP0-8C3QO",
        "outputId": "9f883e21-81ad-4a78-f92a-0f6a8b1f0cfc"
      },
      "source": [
        "print(Y.shape)"
      ],
      "execution_count": 19,
      "outputs": [
        {
          "output_type": "stream",
          "text": [
            "(768,)\n"
          ],
          "name": "stdout"
        }
      ]
    },
    {
      "cell_type": "code",
      "metadata": {
        "colab": {
          "base_uri": "https://localhost:8080/",
          "height": 313
        },
        "id": "943kWJFbDJPe",
        "outputId": "342b7768-f4b7-4bd6-9f19-c8e12cc970a8"
      },
      "source": [
        "plt.hist(df['Outcome'], color='green')\n",
        "plt.xlabel(\"Outcome\")\n",
        "plt.ylabel(\"No of Outcomes\")\n",
        "plt.title(\"Problem Visualization\")"
      ],
      "execution_count": 22,
      "outputs": [
        {
          "output_type": "execute_result",
          "data": {
            "text/plain": [
              "Text(0.5, 1.0, 'Problem Visualization')"
            ]
          },
          "metadata": {
            "tags": []
          },
          "execution_count": 22
        },
        {
          "output_type": "display_data",
          "data": {
            "image/png": "[encoded data removed]",
            "text/plain": [
              "<Figure size 432x288 with 1 Axes>"
            ]
          },
          "metadata": {
            "tags": [],
            "needs_background": "light"
          }
        }
      ]
    },
    {
      "cell_type": "markdown",
      "metadata": {
        "id": "NX3M-BYhDkFI"
      },
      "source": [
        "`Spliting Data`"
      ]
    },
    {
      "cell_type": "code",
      "metadata": {
        "id": "Xyg-GSvCDQY9"
      },
      "source": [
        "from sklearn.model_selection import train_test_split"
      ],
      "execution_count": 23,
      "outputs": []
    },
    {
      "cell_type": "code",
      "metadata": {
        "id": "jxStJzykDpKs"
      },
      "source": [
        "X_train, X_test, y_train, y_test = train_test_split(x, y, test_size=0.12, random_state=5)"
      ],
      "execution_count": 26,
      "outputs": []
    },
    {
      "cell_type": "code",
      "metadata": {
        "id": "xNKK2gpED2mt"
      },
      "source": [
        "model = keras.models.Sequential([\n",
        "  keras.layers.Dense(units=30, input_shape=(8,), activation=\"relu\"),\n",
        "  keras.layers.Dense(units=24, activation=\"relu\"),\n",
        "  keras.layers.Dense(units=12, activation=\"relu\"),\n",
        "  keras.layers.Dense(units=1, activation=\"sigmoid\")\n",
        "])"
      ],
      "execution_count": 33,
      "outputs": []
    },
    {
      "cell_type": "code",
      "metadata": {
        "id": "-XEgm_fFEW0y"
      },
      "source": [
        "model.compile(optimizer='adam',\n",
        "              loss='binary_crossentropy',\n",
        "              metrics=['accuracy'])"
      ],
      "execution_count": 34,
      "outputs": []
    },
    {
      "cell_type": "code",
      "metadata": {
        "colab": {
          "base_uri": "https://localhost:8080/"
        },
        "id": "2ZX36JrjEglu",
        "outputId": "96879253-68dd-46fe-e76b-e862021fcbab"
      },
      "source": [
        "model.summary()"
      ],
      "execution_count": 35,
      "outputs": [
        {
          "output_type": "stream",
          "text": [
            "Model: \"sequential_2\"\n",
            "_________________________________________________________________\n",
            "Layer (type)                 Output Shape              Param #   \n",
            "=================================================================\n",
            "dense_8 (Dense)              (None, 30)                270       \n",
            "_________________________________________________________________\n",
            "dense_9 (Dense)              (None, 24)                744       \n",
            "_________________________________________________________________\n",
            "dense_10 (Dense)             (None, 12)                300       \n",
            "_________________________________________________________________\n",
            "dense_11 (Dense)             (None, 1)                 13        \n",
            "=================================================================\n",
            "Total params: 1,327\n",
            "Trainable params: 1,327\n",
            "Non-trainable params: 0\n",
            "_________________________________________________________________\n"
          ],
          "name": "stdout"
        }
      ]
    },
    {
      "cell_type": "code",
      "metadata": {
        "colab": {
          "base_uri": "https://localhost:8080/"
        },
        "id": "mLLHXzGtEhh-",
        "outputId": "c4f2d076-3055-4234-8bcb-0933b45888a0"
      },
      "source": [
        "model.fit(X_train, y_train, epochs=100)"
      ],
      "execution_count": 36,
      "outputs": [
        {
          "output_type": "stream",
          "text": [
            "Epoch 1/100\n",
            "22/22 [==============================] - 1s 1ms/step - loss: 2.2979 - accuracy: 0.6021\n",
            "Epoch 2/100\n",
            "22/22 [==============================] - 0s 2ms/step - loss: 0.8540 - accuracy: 0.6066\n",
            "Epoch 3/100\n",
            "22/22 [==============================] - 0s 2ms/step - loss: 0.7697 - accuracy: 0.5932\n",
            "Epoch 4/100\n",
            "22/22 [==============================] - 0s 2ms/step - loss: 0.7285 - accuracy: 0.6353\n",
            "Epoch 5/100\n",
            "22/22 [==============================] - 0s 2ms/step - loss: 0.6731 - accuracy: 0.6471\n",
            "Epoch 6/100\n",
            "22/22 [==============================] - 0s 2ms/step - loss: 0.6591 - accuracy: 0.6406\n",
            "Epoch 7/100\n",
            "22/22 [==============================] - 0s 2ms/step - loss: 0.6000 - accuracy: 0.6834\n",
            "Epoch 8/100\n",
            "22/22 [==============================] - 0s 1ms/step - loss: 0.5941 - accuracy: 0.6818\n",
            "Epoch 9/100\n",
            "22/22 [==============================] - 0s 1ms/step - loss: 0.6528 - accuracy: 0.6421\n",
            "Epoch 10/100\n",
            "22/22 [==============================] - 0s 1ms/step - loss: 0.5695 - accuracy: 0.6920\n",
            "Epoch 11/100\n",
            "22/22 [==============================] - 0s 1ms/step - loss: 0.6103 - accuracy: 0.6770\n",
            "Epoch 12/100\n",
            "22/22 [==============================] - 0s 1ms/step - loss: 0.6305 - accuracy: 0.6951\n",
            "Epoch 13/100\n",
            "22/22 [==============================] - 0s 2ms/step - loss: 0.6246 - accuracy: 0.6927\n",
            "Epoch 14/100\n",
            "22/22 [==============================] - 0s 2ms/step - loss: 0.5746 - accuracy: 0.7290\n",
            "Epoch 15/100\n",
            "22/22 [==============================] - 0s 2ms/step - loss: 0.5728 - accuracy: 0.7029\n",
            "Epoch 16/100\n",
            "22/22 [==============================] - 0s 2ms/step - loss: 0.6065 - accuracy: 0.6868\n",
            "Epoch 17/100\n",
            "22/22 [==============================] - 0s 2ms/step - loss: 0.6630 - accuracy: 0.6507\n",
            "Epoch 18/100\n",
            "22/22 [==============================] - 0s 2ms/step - loss: 0.5660 - accuracy: 0.7401\n",
            "Epoch 19/100\n",
            "22/22 [==============================] - 0s 1ms/step - loss: 0.5529 - accuracy: 0.7374\n",
            "Epoch 20/100\n",
            "22/22 [==============================] - 0s 1ms/step - loss: 0.6635 - accuracy: 0.7171\n",
            "Epoch 21/100\n",
            "22/22 [==============================] - 0s 2ms/step - loss: 0.5415 - accuracy: 0.7397\n",
            "Epoch 22/100\n",
            "22/22 [==============================] - 0s 1ms/step - loss: 0.5539 - accuracy: 0.7342\n",
            "Epoch 23/100\n",
            "22/22 [==============================] - 0s 1ms/step - loss: 0.6686 - accuracy: 0.6770\n",
            "Epoch 24/100\n",
            "22/22 [==============================] - 0s 1ms/step - loss: 0.5829 - accuracy: 0.6990\n",
            "Epoch 25/100\n",
            "22/22 [==============================] - 0s 2ms/step - loss: 0.5890 - accuracy: 0.6871\n",
            "Epoch 26/100\n",
            "22/22 [==============================] - 0s 2ms/step - loss: 0.5918 - accuracy: 0.7134\n",
            "Epoch 27/100\n",
            "22/22 [==============================] - 0s 2ms/step - loss: 0.5545 - accuracy: 0.7297\n",
            "Epoch 28/100\n",
            "22/22 [==============================] - 0s 2ms/step - loss: 0.5639 - accuracy: 0.7064\n",
            "Epoch 29/100\n",
            "22/22 [==============================] - 0s 2ms/step - loss: 0.5380 - accuracy: 0.7371\n",
            "Epoch 30/100\n",
            "22/22 [==============================] - 0s 2ms/step - loss: 0.5547 - accuracy: 0.7124\n",
            "Epoch 31/100\n",
            "22/22 [==============================] - 0s 1ms/step - loss: 0.5421 - accuracy: 0.7052\n",
            "Epoch 32/100\n",
            "22/22 [==============================] - 0s 2ms/step - loss: 0.5519 - accuracy: 0.7451\n",
            "Epoch 33/100\n",
            "22/22 [==============================] - 0s 2ms/step - loss: 0.5548 - accuracy: 0.7328\n",
            "Epoch 34/100\n",
            "22/22 [==============================] - 0s 2ms/step - loss: 0.5513 - accuracy: 0.7098\n",
            "Epoch 35/100\n",
            "22/22 [==============================] - 0s 1ms/step - loss: 0.5382 - accuracy: 0.7233\n",
            "Epoch 36/100\n",
            "22/22 [==============================] - 0s 2ms/step - loss: 0.5278 - accuracy: 0.7293\n",
            "Epoch 37/100\n",
            "22/22 [==============================] - 0s 1ms/step - loss: 0.5233 - accuracy: 0.7256\n",
            "Epoch 38/100\n",
            "22/22 [==============================] - 0s 2ms/step - loss: 0.5584 - accuracy: 0.7099\n",
            "Epoch 39/100\n",
            "22/22 [==============================] - 0s 2ms/step - loss: 0.5375 - accuracy: 0.7450\n",
            "Epoch 40/100\n",
            "22/22 [==============================] - 0s 1ms/step - loss: 0.4995 - accuracy: 0.7462\n",
            "Epoch 41/100\n",
            "22/22 [==============================] - 0s 2ms/step - loss: 0.5468 - accuracy: 0.7179\n",
            "Epoch 42/100\n",
            "22/22 [==============================] - 0s 2ms/step - loss: 0.5489 - accuracy: 0.7173\n",
            "Epoch 43/100\n",
            "22/22 [==============================] - 0s 2ms/step - loss: 0.5414 - accuracy: 0.7408\n",
            "Epoch 44/100\n",
            "22/22 [==============================] - 0s 2ms/step - loss: 0.5150 - accuracy: 0.7339\n",
            "Epoch 45/100\n",
            "22/22 [==============================] - 0s 2ms/step - loss: 0.5261 - accuracy: 0.7506\n",
            "Epoch 46/100\n",
            "22/22 [==============================] - 0s 2ms/step - loss: 0.5282 - accuracy: 0.7346\n",
            "Epoch 47/100\n",
            "22/22 [==============================] - 0s 1ms/step - loss: 0.5367 - accuracy: 0.7321\n",
            "Epoch 48/100\n",
            "22/22 [==============================] - 0s 1ms/step - loss: 0.5488 - accuracy: 0.7212\n",
            "Epoch 49/100\n",
            "22/22 [==============================] - 0s 2ms/step - loss: 0.5188 - accuracy: 0.7468\n",
            "Epoch 50/100\n",
            "22/22 [==============================] - 0s 2ms/step - loss: 0.5431 - accuracy: 0.7451\n",
            "Epoch 51/100\n",
            "22/22 [==============================] - 0s 2ms/step - loss: 0.5849 - accuracy: 0.6901\n",
            "Epoch 52/100\n",
            "22/22 [==============================] - 0s 2ms/step - loss: 0.5171 - accuracy: 0.7824\n",
            "Epoch 53/100\n",
            "22/22 [==============================] - 0s 2ms/step - loss: 0.5029 - accuracy: 0.7641\n",
            "Epoch 54/100\n",
            "22/22 [==============================] - 0s 2ms/step - loss: 0.5061 - accuracy: 0.7576\n",
            "Epoch 55/100\n",
            "22/22 [==============================] - 0s 2ms/step - loss: 0.5199 - accuracy: 0.7601\n",
            "Epoch 56/100\n",
            "22/22 [==============================] - 0s 2ms/step - loss: 0.5073 - accuracy: 0.7434\n",
            "Epoch 57/100\n",
            "22/22 [==============================] - 0s 2ms/step - loss: 0.5362 - accuracy: 0.7361\n",
            "Epoch 58/100\n",
            "22/22 [==============================] - 0s 2ms/step - loss: 0.5418 - accuracy: 0.7251\n",
            "Epoch 59/100\n",
            "22/22 [==============================] - 0s 2ms/step - loss: 0.6000 - accuracy: 0.6940\n",
            "Epoch 60/100\n",
            "22/22 [==============================] - 0s 2ms/step - loss: 0.5621 - accuracy: 0.7269\n",
            "Epoch 61/100\n",
            "22/22 [==============================] - 0s 3ms/step - loss: 0.5107 - accuracy: 0.7487\n",
            "Epoch 62/100\n",
            "22/22 [==============================] - 0s 1ms/step - loss: 0.5323 - accuracy: 0.7569\n",
            "Epoch 63/100\n",
            "22/22 [==============================] - 0s 2ms/step - loss: 0.5260 - accuracy: 0.7281\n",
            "Epoch 64/100\n",
            "22/22 [==============================] - 0s 2ms/step - loss: 0.5434 - accuracy: 0.6992\n",
            "Epoch 65/100\n",
            "22/22 [==============================] - 0s 2ms/step - loss: 0.5175 - accuracy: 0.7492\n",
            "Epoch 66/100\n",
            "22/22 [==============================] - 0s 2ms/step - loss: 0.5236 - accuracy: 0.7305\n",
            "Epoch 67/100\n",
            "22/22 [==============================] - 0s 2ms/step - loss: 0.5325 - accuracy: 0.7337\n",
            "Epoch 68/100\n",
            "22/22 [==============================] - 0s 2ms/step - loss: 0.5066 - accuracy: 0.7664\n",
            "Epoch 69/100\n",
            "22/22 [==============================] - 0s 2ms/step - loss: 0.5186 - accuracy: 0.7557\n",
            "Epoch 70/100\n",
            "22/22 [==============================] - 0s 2ms/step - loss: 0.4971 - accuracy: 0.7633\n",
            "Epoch 71/100\n",
            "22/22 [==============================] - 0s 2ms/step - loss: 0.4884 - accuracy: 0.7561\n",
            "Epoch 72/100\n",
            "22/22 [==============================] - 0s 2ms/step - loss: 0.4975 - accuracy: 0.7312\n",
            "Epoch 73/100\n",
            "22/22 [==============================] - 0s 2ms/step - loss: 0.5303 - accuracy: 0.7216\n",
            "Epoch 74/100\n",
            "22/22 [==============================] - 0s 2ms/step - loss: 0.5230 - accuracy: 0.7404\n",
            "Epoch 75/100\n",
            "22/22 [==============================] - 0s 2ms/step - loss: 0.5075 - accuracy: 0.7448\n",
            "Epoch 76/100\n",
            "22/22 [==============================] - 0s 2ms/step - loss: 0.5254 - accuracy: 0.7446\n",
            "Epoch 77/100\n",
            "22/22 [==============================] - 0s 2ms/step - loss: 0.5050 - accuracy: 0.7790\n",
            "Epoch 78/100\n",
            "22/22 [==============================] - 0s 1ms/step - loss: 0.5253 - accuracy: 0.7519\n",
            "Epoch 79/100\n",
            "22/22 [==============================] - 0s 2ms/step - loss: 0.5248 - accuracy: 0.7344\n",
            "Epoch 80/100\n",
            "22/22 [==============================] - 0s 2ms/step - loss: 0.5252 - accuracy: 0.7298\n",
            "Epoch 81/100\n",
            "22/22 [==============================] - 0s 2ms/step - loss: 0.5367 - accuracy: 0.7393\n",
            "Epoch 82/100\n",
            "22/22 [==============================] - 0s 3ms/step - loss: 0.4711 - accuracy: 0.7950\n",
            "Epoch 83/100\n",
            "22/22 [==============================] - 0s 2ms/step - loss: 0.5128 - accuracy: 0.7509\n",
            "Epoch 84/100\n",
            "22/22 [==============================] - 0s 2ms/step - loss: 0.4660 - accuracy: 0.7786\n",
            "Epoch 85/100\n",
            "22/22 [==============================] - 0s 2ms/step - loss: 0.5021 - accuracy: 0.7655\n",
            "Epoch 86/100\n",
            "22/22 [==============================] - 0s 2ms/step - loss: 0.4873 - accuracy: 0.7581\n",
            "Epoch 87/100\n",
            "22/22 [==============================] - 0s 2ms/step - loss: 0.4657 - accuracy: 0.7941\n",
            "Epoch 88/100\n",
            "22/22 [==============================] - 0s 2ms/step - loss: 0.4968 - accuracy: 0.7501\n",
            "Epoch 89/100\n",
            "22/22 [==============================] - 0s 2ms/step - loss: 0.5119 - accuracy: 0.7539\n",
            "Epoch 90/100\n",
            "22/22 [==============================] - 0s 2ms/step - loss: 0.4959 - accuracy: 0.7579\n",
            "Epoch 91/100\n",
            "22/22 [==============================] - 0s 2ms/step - loss: 0.5324 - accuracy: 0.7355\n",
            "Epoch 92/100\n",
            "22/22 [==============================] - 0s 2ms/step - loss: 0.4504 - accuracy: 0.7953\n",
            "Epoch 93/100\n",
            "22/22 [==============================] - 0s 2ms/step - loss: 0.4743 - accuracy: 0.7728\n",
            "Epoch 94/100\n",
            "22/22 [==============================] - 0s 2ms/step - loss: 0.4879 - accuracy: 0.7671\n",
            "Epoch 95/100\n",
            "22/22 [==============================] - 0s 2ms/step - loss: 0.5011 - accuracy: 0.7599\n",
            "Epoch 96/100\n",
            "22/22 [==============================] - 0s 2ms/step - loss: 0.4776 - accuracy: 0.7691\n",
            "Epoch 97/100\n",
            "22/22 [==============================] - 0s 2ms/step - loss: 0.4609 - accuracy: 0.7826\n",
            "Epoch 98/100\n",
            "22/22 [==============================] - 0s 2ms/step - loss: 0.4940 - accuracy: 0.7819\n",
            "Epoch 99/100\n",
            "22/22 [==============================] - 0s 2ms/step - loss: 0.5706 - accuracy: 0.7369\n",
            "Epoch 100/100\n",
            "22/22 [==============================] - 0s 2ms/step - loss: 0.5498 - accuracy: 0.7073\n"
          ],
          "name": "stdout"
        },
        {
          "output_type": "execute_result",
          "data": {
            "text/plain": [
              "<tensorflow.python.keras.callbacks.History at 0x7f51defedb10>"
            ]
          },
          "metadata": {
            "tags": []
          },
          "execution_count": 36
        }
      ]
    },
    {
      "cell_type": "code",
      "metadata": {
        "colab": {
          "base_uri": "https://localhost:8080/"
        },
        "id": "Hppu7E-YElOv",
        "outputId": "1f2642c3-b195-47f2-ff39-ac37684d3aa7"
      },
      "source": [
        "model.evaluate(X_test, y_test)"
      ],
      "execution_count": 37,
      "outputs": [
        {
          "output_type": "stream",
          "text": [
            "3/3 [==============================] - 0s 4ms/step - loss: 0.5584 - accuracy: 0.7312\n"
          ],
          "name": "stdout"
        },
        {
          "output_type": "execute_result",
          "data": {
            "text/plain": [
              "[0.5584361553192139, 0.7311828136444092]"
            ]
          },
          "metadata": {
            "tags": []
          },
          "execution_count": 37
        }
      ]
    },
    {
      "cell_type": "code",
      "metadata": {
        "id": "n6Es67SjE-bv"
      },
      "source": [
        "yp = model.predict(X_test)\n",
        "\n",
        "y_pred = []\n",
        "for element in yp:\n",
        "    if element > 0.5:\n",
        "        y_pred.append(1)\n",
        "    else:\n",
        "        y_pred.append(0)"
      ],
      "execution_count": 38,
      "outputs": []
    },
    {
      "cell_type": "code",
      "metadata": {
        "colab": {
          "base_uri": "https://localhost:8080/",
          "height": 459
        },
        "id": "LayyIU8JFCnv",
        "outputId": "17b5017d-74a0-40d4-b57e-01d8bb8ec82a"
      },
      "source": [
        "cm = tf.math.confusion_matrix(labels=y_test,predictions=y_pred)\n",
        "\n",
        "plt.figure(figsize = (10,7))\n",
        "sn.heatmap(cm, annot=True, fmt='d')\n",
        "plt.xlabel('Predicted')\n",
        "plt.ylabel('Truth')"
      ],
      "execution_count": 39,
      "outputs": [
        {
          "output_type": "execute_result",
          "data": {
            "text/plain": [
              "Text(69.0, 0.5, 'Truth')"
            ]
          },
          "metadata": {
            "tags": []
          },
          "execution_count": 39
        },
        {
          "output_type": "display_data",
          "data": {
            "image/png": "[encoded data removed]",
            "text/plain": [
              "<Figure size 720x504 with 2 Axes>"
            ]
          },
          "metadata": {
            "tags": [],
            "needs_background": "light"
          }
        }
      ]
    },
    {
      "cell_type": "markdown",
      "metadata": {
        "id": "2BqQUBElFJSn"
      },
      "source": [
        "Using **SMOTE** to handle Imbalance Data"
      ]
    },
    {
      "cell_type": "code",
      "metadata": {
        "colab": {
          "base_uri": "https://localhost:8080/"
        },
        "id": "_vhCGBl7FEt0",
        "outputId": "40d3bd11-18d6-4110-be6d-1e9ae7e04bc0"
      },
      "source": [
        "from imblearn.over_sampling import SMOTE"
      ],
      "execution_count": 40,
      "outputs": [
        {
          "output_type": "stream",
          "text": [
            "/usr/local/lib/python3.7/dist-packages/sklearn/externals/six.py:31: FutureWarning: The module is deprecated in version 0.21 and will be removed in version 0.23 since we've dropped support for Python 2.7. Please rely on the official version of six (https://pypi.org/project/six/).\n",
            "  \"(https://pypi.org/project/six/).\", FutureWarning)\n",
            "/usr/local/lib/python3.7/dist-packages/sklearn/utils/deprecation.py:144: FutureWarning: The sklearn.neighbors.base module is  deprecated in version 0.22 and will be removed in version 0.24. The corresponding classes / functions should instead be imported from sklearn.neighbors. Anything that cannot be imported from sklearn.neighbors is now part of the private API.\n",
            "  warnings.warn(message, FutureWarning)\n"
          ],
          "name": "stderr"
        }
      ]
    },
    {
      "cell_type": "code",
      "metadata": {
        "colab": {
          "base_uri": "https://localhost:8080/"
        },
        "id": "pJ0aTL9CFUMP",
        "outputId": "7220caaf-c4e6-4649-e0ca-10a26974755e"
      },
      "source": [
        "smote = SMOTE(sampling_strategy='minority')\n",
        "X_sm, y_sm = smote.fit_sample(x, y)"
      ],
      "execution_count": 48,
      "outputs": [
        {
          "output_type": "stream",
          "text": [
            "/usr/local/lib/python3.7/dist-packages/sklearn/utils/deprecation.py:87: FutureWarning: Function safe_indexing is deprecated; safe_indexing is deprecated in version 0.22 and will be removed in version 0.24.\n",
            "  warnings.warn(msg, category=FutureWarning)\n"
          ],
          "name": "stderr"
        }
      ]
    },
    {
      "cell_type": "code",
      "metadata": {
        "colab": {
          "base_uri": "https://localhost:8080/"
        },
        "id": "DF-vDgq1FW4_",
        "outputId": "044dba0e-c158-4200-d32a-9697a6ad2556"
      },
      "source": [
        "print(X_sm.shape, y_sm.shape)"
      ],
      "execution_count": 49,
      "outputs": [
        {
          "output_type": "stream",
          "text": [
            "(1000, 8) (1000,)\n"
          ],
          "name": "stdout"
        }
      ]
    },
    {
      "cell_type": "code",
      "metadata": {
        "id": "WZGdaXtvGB8j"
      },
      "source": [
        "X_train, X_test, y_train, y_test = train_test_split(X_sm, y_sm, test_size=0.2, random_state=15, stratify=y_sm)"
      ],
      "execution_count": 50,
      "outputs": []
    },
    {
      "cell_type": "code",
      "metadata": {
        "colab": {
          "base_uri": "https://localhost:8080/"
        },
        "id": "zbKQZvM9FZH3",
        "outputId": "1c1068ff-f6ac-47af-a3d4-2978ef3a1d42"
      },
      "source": [
        "model.fit(X_train, y_train, epochs=100)"
      ],
      "execution_count": 51,
      "outputs": [
        {
          "output_type": "stream",
          "text": [
            "Epoch 1/100\n",
            "25/25 [==============================] - 0s 2ms/step - loss: 0.4571 - accuracy: 0.7800\n",
            "Epoch 2/100\n",
            "25/25 [==============================] - 0s 2ms/step - loss: 0.4469 - accuracy: 0.7887\n",
            "Epoch 3/100\n",
            "25/25 [==============================] - 0s 2ms/step - loss: 0.4467 - accuracy: 0.7812\n",
            "Epoch 4/100\n",
            "25/25 [==============================] - 0s 2ms/step - loss: 0.4355 - accuracy: 0.8012\n",
            "Epoch 5/100\n",
            "25/25 [==============================] - 0s 2ms/step - loss: 0.4258 - accuracy: 0.8062\n",
            "Epoch 6/100\n",
            "25/25 [==============================] - 0s 2ms/step - loss: 0.4218 - accuracy: 0.8075\n",
            "Epoch 7/100\n",
            "25/25 [==============================] - 0s 2ms/step - loss: 0.4184 - accuracy: 0.8012\n",
            "Epoch 8/100\n",
            "25/25 [==============================] - 0s 2ms/step - loss: 0.4304 - accuracy: 0.7912\n",
            "Epoch 9/100\n",
            "25/25 [==============================] - 0s 2ms/step - loss: 0.4353 - accuracy: 0.7912\n",
            "Epoch 10/100\n",
            "25/25 [==============================] - 0s 2ms/step - loss: 0.4426 - accuracy: 0.7950\n",
            "Epoch 11/100\n",
            "25/25 [==============================] - 0s 2ms/step - loss: 0.4313 - accuracy: 0.7900\n",
            "Epoch 12/100\n",
            "25/25 [==============================] - 0s 2ms/step - loss: 0.4255 - accuracy: 0.8000\n",
            "Epoch 13/100\n",
            "25/25 [==============================] - 0s 3ms/step - loss: 0.4428 - accuracy: 0.7912\n",
            "Epoch 14/100\n",
            "25/25 [==============================] - 0s 2ms/step - loss: 0.4376 - accuracy: 0.7975\n",
            "Epoch 15/100\n",
            "25/25 [==============================] - 0s 2ms/step - loss: 0.4305 - accuracy: 0.7987\n",
            "Epoch 16/100\n",
            "25/25 [==============================] - 0s 2ms/step - loss: 0.4267 - accuracy: 0.8000\n",
            "Epoch 17/100\n",
            "25/25 [==============================] - 0s 2ms/step - loss: 0.4410 - accuracy: 0.7825\n",
            "Epoch 18/100\n",
            "25/25 [==============================] - 0s 2ms/step - loss: 0.4331 - accuracy: 0.7850\n",
            "Epoch 19/100\n",
            "25/25 [==============================] - 0s 3ms/step - loss: 0.4150 - accuracy: 0.8012\n",
            "Epoch 20/100\n",
            "25/25 [==============================] - 0s 3ms/step - loss: 0.4107 - accuracy: 0.8163\n",
            "Epoch 21/100\n",
            "25/25 [==============================] - 0s 2ms/step - loss: 0.4194 - accuracy: 0.8050\n",
            "Epoch 22/100\n",
            "25/25 [==============================] - 0s 2ms/step - loss: 0.4132 - accuracy: 0.8087\n",
            "Epoch 23/100\n",
            "25/25 [==============================] - 0s 2ms/step - loss: 0.4108 - accuracy: 0.8163\n",
            "Epoch 24/100\n",
            "25/25 [==============================] - 0s 2ms/step - loss: 0.4061 - accuracy: 0.8112\n",
            "Epoch 25/100\n",
            "25/25 [==============================] - 0s 2ms/step - loss: 0.4137 - accuracy: 0.8087\n",
            "Epoch 26/100\n",
            "25/25 [==============================] - 0s 2ms/step - loss: 0.4247 - accuracy: 0.8050\n",
            "Epoch 27/100\n",
            "25/25 [==============================] - 0s 2ms/step - loss: 0.4066 - accuracy: 0.8163\n",
            "Epoch 28/100\n",
            "25/25 [==============================] - 0s 2ms/step - loss: 0.4197 - accuracy: 0.8025\n",
            "Epoch 29/100\n",
            "25/25 [==============================] - 0s 2ms/step - loss: 0.4128 - accuracy: 0.8125\n",
            "Epoch 30/100\n",
            "25/25 [==============================] - 0s 2ms/step - loss: 0.4127 - accuracy: 0.8050\n",
            "Epoch 31/100\n",
            "25/25 [==============================] - 0s 2ms/step - loss: 0.4020 - accuracy: 0.8150\n",
            "Epoch 32/100\n",
            "25/25 [==============================] - 0s 2ms/step - loss: 0.4064 - accuracy: 0.8100\n",
            "Epoch 33/100\n",
            "25/25 [==============================] - 0s 2ms/step - loss: 0.4103 - accuracy: 0.7975\n",
            "Epoch 34/100\n",
            "25/25 [==============================] - 0s 2ms/step - loss: 0.4061 - accuracy: 0.8138\n",
            "Epoch 35/100\n",
            "25/25 [==============================] - 0s 3ms/step - loss: 0.4162 - accuracy: 0.8100\n",
            "Epoch 36/100\n",
            "25/25 [==============================] - 0s 2ms/step - loss: 0.4114 - accuracy: 0.8213\n",
            "Epoch 37/100\n",
            "25/25 [==============================] - 0s 3ms/step - loss: 0.4018 - accuracy: 0.8125\n",
            "Epoch 38/100\n",
            "25/25 [==============================] - 0s 2ms/step - loss: 0.4018 - accuracy: 0.8138\n",
            "Epoch 39/100\n",
            "25/25 [==============================] - 0s 2ms/step - loss: 0.3955 - accuracy: 0.8288\n",
            "Epoch 40/100\n",
            "25/25 [==============================] - 0s 2ms/step - loss: 0.3992 - accuracy: 0.8175\n",
            "Epoch 41/100\n",
            "25/25 [==============================] - 0s 2ms/step - loss: 0.4011 - accuracy: 0.8163\n",
            "Epoch 42/100\n",
            "25/25 [==============================] - 0s 2ms/step - loss: 0.3975 - accuracy: 0.8163\n",
            "Epoch 43/100\n",
            "25/25 [==============================] - 0s 3ms/step - loss: 0.3988 - accuracy: 0.8200\n",
            "Epoch 44/100\n",
            "25/25 [==============================] - 0s 2ms/step - loss: 0.3890 - accuracy: 0.8213\n",
            "Epoch 45/100\n",
            "25/25 [==============================] - 0s 2ms/step - loss: 0.4170 - accuracy: 0.8050\n",
            "Epoch 46/100\n",
            "25/25 [==============================] - 0s 2ms/step - loss: 0.3967 - accuracy: 0.8188\n",
            "Epoch 47/100\n",
            "25/25 [==============================] - 0s 3ms/step - loss: 0.4165 - accuracy: 0.7937\n",
            "Epoch 48/100\n",
            "25/25 [==============================] - 0s 2ms/step - loss: 0.4029 - accuracy: 0.8075\n",
            "Epoch 49/100\n",
            "25/25 [==============================] - 0s 2ms/step - loss: 0.3985 - accuracy: 0.8150\n",
            "Epoch 50/100\n",
            "25/25 [==============================] - 0s 2ms/step - loss: 0.4132 - accuracy: 0.7925\n",
            "Epoch 51/100\n",
            "25/25 [==============================] - 0s 2ms/step - loss: 0.3861 - accuracy: 0.8313\n",
            "Epoch 52/100\n",
            "25/25 [==============================] - 0s 2ms/step - loss: 0.3893 - accuracy: 0.8250\n",
            "Epoch 53/100\n",
            "25/25 [==============================] - 0s 2ms/step - loss: 0.4156 - accuracy: 0.7962\n",
            "Epoch 54/100\n",
            "25/25 [==============================] - 0s 2ms/step - loss: 0.3968 - accuracy: 0.8163\n",
            "Epoch 55/100\n",
            "25/25 [==============================] - 0s 2ms/step - loss: 0.3971 - accuracy: 0.8125\n",
            "Epoch 56/100\n",
            "25/25 [==============================] - 0s 2ms/step - loss: 0.3846 - accuracy: 0.8363\n",
            "Epoch 57/100\n",
            "25/25 [==============================] - 0s 2ms/step - loss: 0.3942 - accuracy: 0.8225\n",
            "Epoch 58/100\n",
            "25/25 [==============================] - 0s 3ms/step - loss: 0.3893 - accuracy: 0.8150\n",
            "Epoch 59/100\n",
            "25/25 [==============================] - 0s 2ms/step - loss: 0.3914 - accuracy: 0.8213\n",
            "Epoch 60/100\n",
            "25/25 [==============================] - 0s 2ms/step - loss: 0.3932 - accuracy: 0.8163\n",
            "Epoch 61/100\n",
            "25/25 [==============================] - 0s 2ms/step - loss: 0.3977 - accuracy: 0.8138\n",
            "Epoch 62/100\n",
            "25/25 [==============================] - 0s 2ms/step - loss: 0.3889 - accuracy: 0.8138\n",
            "Epoch 63/100\n",
            "25/25 [==============================] - 0s 2ms/step - loss: 0.3978 - accuracy: 0.8225\n",
            "Epoch 64/100\n",
            "25/25 [==============================] - 0s 2ms/step - loss: 0.3830 - accuracy: 0.8275\n",
            "Epoch 65/100\n",
            "25/25 [==============================] - 0s 2ms/step - loss: 0.3920 - accuracy: 0.8062\n",
            "Epoch 66/100\n",
            "25/25 [==============================] - 0s 2ms/step - loss: 0.3957 - accuracy: 0.8325\n",
            "Epoch 67/100\n",
            "25/25 [==============================] - 0s 2ms/step - loss: 0.3835 - accuracy: 0.8238\n",
            "Epoch 68/100\n",
            "25/25 [==============================] - 0s 2ms/step - loss: 0.3986 - accuracy: 0.8100\n",
            "Epoch 69/100\n",
            "25/25 [==============================] - 0s 2ms/step - loss: 0.3860 - accuracy: 0.8138\n",
            "Epoch 70/100\n",
            "25/25 [==============================] - 0s 3ms/step - loss: 0.3800 - accuracy: 0.8325\n",
            "Epoch 71/100\n",
            "25/25 [==============================] - 0s 3ms/step - loss: 0.3933 - accuracy: 0.8338\n",
            "Epoch 72/100\n",
            "25/25 [==============================] - 0s 2ms/step - loss: 0.3858 - accuracy: 0.8225\n",
            "Epoch 73/100\n",
            "25/25 [==============================] - 0s 2ms/step - loss: 0.3749 - accuracy: 0.8238\n",
            "Epoch 74/100\n",
            "25/25 [==============================] - 0s 2ms/step - loss: 0.3802 - accuracy: 0.8338\n",
            "Epoch 75/100\n",
            "25/25 [==============================] - 0s 2ms/step - loss: 0.3815 - accuracy: 0.8338\n",
            "Epoch 76/100\n",
            "25/25 [==============================] - 0s 2ms/step - loss: 0.3901 - accuracy: 0.8200\n",
            "Epoch 77/100\n",
            "25/25 [==============================] - 0s 2ms/step - loss: 0.3798 - accuracy: 0.8325\n",
            "Epoch 78/100\n",
            "25/25 [==============================] - 0s 2ms/step - loss: 0.3877 - accuracy: 0.8375\n",
            "Epoch 79/100\n",
            "25/25 [==============================] - 0s 2ms/step - loss: 0.3824 - accuracy: 0.8225\n",
            "Epoch 80/100\n",
            "25/25 [==============================] - 0s 2ms/step - loss: 0.3773 - accuracy: 0.8313\n",
            "Epoch 81/100\n",
            "25/25 [==============================] - 0s 3ms/step - loss: 0.3716 - accuracy: 0.8400\n",
            "Epoch 82/100\n",
            "25/25 [==============================] - 0s 3ms/step - loss: 0.3826 - accuracy: 0.8275\n",
            "Epoch 83/100\n",
            "25/25 [==============================] - 0s 2ms/step - loss: 0.3772 - accuracy: 0.8325\n",
            "Epoch 84/100\n",
            "25/25 [==============================] - 0s 2ms/step - loss: 0.3770 - accuracy: 0.8350\n",
            "Epoch 85/100\n",
            "25/25 [==============================] - 0s 2ms/step - loss: 0.3861 - accuracy: 0.8288\n",
            "Epoch 86/100\n",
            "25/25 [==============================] - 0s 2ms/step - loss: 0.3777 - accuracy: 0.8150\n",
            "Epoch 87/100\n",
            "25/25 [==============================] - 0s 2ms/step - loss: 0.3792 - accuracy: 0.8363\n",
            "Epoch 88/100\n",
            "25/25 [==============================] - 0s 2ms/step - loss: 0.3681 - accuracy: 0.8275\n",
            "Epoch 89/100\n",
            "25/25 [==============================] - 0s 2ms/step - loss: 0.3774 - accuracy: 0.8350\n",
            "Epoch 90/100\n",
            "25/25 [==============================] - 0s 2ms/step - loss: 0.3661 - accuracy: 0.8275\n",
            "Epoch 91/100\n",
            "25/25 [==============================] - 0s 2ms/step - loss: 0.3596 - accuracy: 0.8338\n",
            "Epoch 92/100\n",
            "25/25 [==============================] - 0s 3ms/step - loss: 0.3634 - accuracy: 0.8400\n",
            "Epoch 93/100\n",
            "25/25 [==============================] - 0s 2ms/step - loss: 0.3741 - accuracy: 0.8325\n",
            "Epoch 94/100\n",
            "25/25 [==============================] - 0s 2ms/step - loss: 0.3707 - accuracy: 0.8313\n",
            "Epoch 95/100\n",
            "25/25 [==============================] - 0s 2ms/step - loss: 0.3680 - accuracy: 0.8338\n",
            "Epoch 96/100\n",
            "25/25 [==============================] - 0s 2ms/step - loss: 0.3678 - accuracy: 0.8400\n",
            "Epoch 97/100\n",
            "25/25 [==============================] - 0s 2ms/step - loss: 0.3657 - accuracy: 0.8388\n",
            "Epoch 98/100\n",
            "25/25 [==============================] - 0s 2ms/step - loss: 0.3730 - accuracy: 0.8238\n",
            "Epoch 99/100\n",
            "25/25 [==============================] - 0s 2ms/step - loss: 0.3626 - accuracy: 0.8450\n",
            "Epoch 100/100\n",
            "25/25 [==============================] - 0s 2ms/step - loss: 0.3700 - accuracy: 0.8263\n"
          ],
          "name": "stdout"
        },
        {
          "output_type": "execute_result",
          "data": {
            "text/plain": [
              "<tensorflow.python.keras.callbacks.History at 0x7f51d12dfa10>"
            ]
          },
          "metadata": {
            "tags": []
          },
          "execution_count": 51
        }
      ]
    },
    {
      "cell_type": "code",
      "metadata": {
        "colab": {
          "base_uri": "https://localhost:8080/"
        },
        "id": "8yr5LYHJFfoQ",
        "outputId": "2f06f4b9-110b-4d97-b2d3-9fed600395e8"
      },
      "source": [
        "model.evaluate(X_test, y_test)"
      ],
      "execution_count": 52,
      "outputs": [
        {
          "output_type": "stream",
          "text": [
            "7/7 [==============================] - 0s 2ms/step - loss: 0.5123 - accuracy: 0.7550\n"
          ],
          "name": "stdout"
        },
        {
          "output_type": "execute_result",
          "data": {
            "text/plain": [
              "[0.5122868418693542, 0.7549999952316284]"
            ]
          },
          "metadata": {
            "tags": []
          },
          "execution_count": 52
        }
      ]
    },
    {
      "cell_type": "code",
      "metadata": {
        "id": "MVT-YQvnFobv"
      },
      "source": [
        "yp = model.predict(X_test)\n",
        "\n",
        "y_pred = []\n",
        "for element in yp:\n",
        "    if element > 0.5:\n",
        "        y_pred.append(1)\n",
        "    else:\n",
        "        y_pred.append(0)"
      ],
      "execution_count": 53,
      "outputs": []
    },
    {
      "cell_type": "code",
      "metadata": {
        "colab": {
          "base_uri": "https://localhost:8080/",
          "height": 459
        },
        "id": "35vDqRUeFttf",
        "outputId": "e4e483fd-cf25-42e9-b194-fa2b1f34bbe4"
      },
      "source": [
        "cm = tf.math.confusion_matrix(labels=y_test,predictions=y_pred)\n",
        "\n",
        "plt.figure(figsize = (10,7))\n",
        "sn.heatmap(cm, annot=True, fmt='d')\n",
        "plt.xlabel('Predicted')\n",
        "plt.ylabel('Truth')"
      ],
      "execution_count": 54,
      "outputs": [
        {
          "output_type": "execute_result",
          "data": {
            "text/plain": [
              "Text(69.0, 0.5, 'Truth')"
            ]
          },
          "metadata": {
            "tags": []
          },
          "execution_count": 54
        },
        {
          "output_type": "display_data",
          "data": {
            "image/png": "[encoded data removed]",
            "text/plain": [
              "<Figure size 720x504 with 2 Axes>"
            ]
          },
          "metadata": {
            "tags": [],
            "needs_background": "light"
          }
        }
      ]
    },
    {
      "cell_type": "code",
      "metadata": {
        "colab": {
          "base_uri": "https://localhost:8080/"
        },
        "id": "wi2nTpOCFwpv",
        "outputId": "52f4d888-8e69-449a-c5fd-4469852d8217"
      },
      "source": [
        "from sklearn.metrics import confusion_matrix , classification_report\n",
        "print(classification_report(y_test, y_pred))"
      ],
      "execution_count": 55,
      "outputs": [
        {
          "output_type": "stream",
          "text": [
            "              precision    recall  f1-score   support\n",
            "\n",
            "           0       0.73      0.82      0.77       100\n",
            "           1       0.79      0.69      0.74       100\n",
            "\n",
            "    accuracy                           0.76       200\n",
            "   macro avg       0.76      0.75      0.75       200\n",
            "weighted avg       0.76      0.76      0.75       200\n",
            "\n"
          ],
          "name": "stdout"
        }
      ]
    }
  ]
}